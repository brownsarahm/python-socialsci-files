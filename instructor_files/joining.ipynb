{
 "cells": [
  {
   "cell_type": "markdown",
   "metadata": {},
   "source": [
    "# Joining Pandas DataFrames"
   ]
  },
  {
   "cell_type": "code",
   "execution_count": 1,
   "metadata": {},
   "outputs": [],
   "source": [
    "import pandas as pd"
   ]
  },
  {
   "cell_type": "code",
   "execution_count": 2,
   "metadata": {},
   "outputs": [],
   "source": [
    "safi_god = pd.read_csv('data/SAFI_God.csv')\n",
    "safi_Ruaca = pd.read_csv('data/SAFI_Ruaca.csv')"
   ]
  },
  {
   "cell_type": "code",
   "execution_count": 3,
   "metadata": {},
   "outputs": [
    {
     "data": {
      "text/html": [
       "<div>\n",
       "<style scoped>\n",
       "    .dataframe tbody tr th:only-of-type {\n",
       "        vertical-align: middle;\n",
       "    }\n",
       "\n",
       "    .dataframe tbody tr th {\n",
       "        vertical-align: top;\n",
       "    }\n",
       "\n",
       "    .dataframe thead th {\n",
       "        text-align: right;\n",
       "    }\n",
       "</style>\n",
       "<table border=\"1\" class=\"dataframe\">\n",
       "  <thead>\n",
       "    <tr style=\"text-align: right;\">\n",
       "      <th></th>\n",
       "      <th>key_ID</th>\n",
       "      <th>village</th>\n",
       "      <th>interview_date</th>\n",
       "      <th>no_membrs</th>\n",
       "      <th>years_liv</th>\n",
       "      <th>respondent_wall_type</th>\n",
       "      <th>rooms</th>\n",
       "      <th>memb_assoc</th>\n",
       "      <th>affect_conflicts</th>\n",
       "      <th>liv_count</th>\n",
       "      <th>items_owned</th>\n",
       "      <th>no_meals</th>\n",
       "      <th>months_lack_food</th>\n",
       "      <th>instanceID</th>\n",
       "    </tr>\n",
       "  </thead>\n",
       "  <tbody>\n",
       "    <tr>\n",
       "      <th>0</th>\n",
       "      <td>1</td>\n",
       "      <td>God</td>\n",
       "      <td>2016-11-17T00:00:00Z</td>\n",
       "      <td>3</td>\n",
       "      <td>4</td>\n",
       "      <td>muddaub</td>\n",
       "      <td>1</td>\n",
       "      <td>NaN</td>\n",
       "      <td>NaN</td>\n",
       "      <td>1</td>\n",
       "      <td>bicycle;television;solar_panel;table</td>\n",
       "      <td>2</td>\n",
       "      <td>Jan</td>\n",
       "      <td>uuid:ec241f2c-0609-46ed-b5e8-fe575f6cefef</td>\n",
       "    </tr>\n",
       "    <tr>\n",
       "      <th>1</th>\n",
       "      <td>1</td>\n",
       "      <td>God</td>\n",
       "      <td>2016-11-17T00:00:00Z</td>\n",
       "      <td>7</td>\n",
       "      <td>9</td>\n",
       "      <td>muddaub</td>\n",
       "      <td>1</td>\n",
       "      <td>yes</td>\n",
       "      <td>once</td>\n",
       "      <td>3</td>\n",
       "      <td>cow_cart;bicycle;radio;cow_plough;solar_panel;...</td>\n",
       "      <td>2</td>\n",
       "      <td>Jan;Sept;Oct;Nov;Dec</td>\n",
       "      <td>uuid:099de9c9-3e5e-427b-8452-26250e840d6e</td>\n",
       "    </tr>\n",
       "  </tbody>\n",
       "</table>\n",
       "</div>"
      ],
      "text/plain": [
       "   key_ID village        interview_date  no_membrs  years_liv  \\\n",
       "0       1     God  2016-11-17T00:00:00Z          3          4   \n",
       "1       1     God  2016-11-17T00:00:00Z          7          9   \n",
       "\n",
       "  respondent_wall_type  rooms memb_assoc affect_conflicts  liv_count  \\\n",
       "0              muddaub      1        NaN              NaN          1   \n",
       "1              muddaub      1        yes             once          3   \n",
       "\n",
       "                                         items_owned  no_meals  \\\n",
       "0               bicycle;television;solar_panel;table         2   \n",
       "1  cow_cart;bicycle;radio;cow_plough;solar_panel;...         2   \n",
       "\n",
       "       months_lack_food                                 instanceID  \n",
       "0                   Jan  uuid:ec241f2c-0609-46ed-b5e8-fe575f6cefef  \n",
       "1  Jan;Sept;Oct;Nov;Dec  uuid:099de9c9-3e5e-427b-8452-26250e840d6e  "
      ]
     },
     "execution_count": 3,
     "metadata": {},
     "output_type": "execute_result"
    }
   ],
   "source": [
    "safi_god.head(2)"
   ]
  },
  {
   "cell_type": "code",
   "execution_count": 4,
   "metadata": {},
   "outputs": [
    {
     "data": {
      "text/html": [
       "<div>\n",
       "<style scoped>\n",
       "    .dataframe tbody tr th:only-of-type {\n",
       "        vertical-align: middle;\n",
       "    }\n",
       "\n",
       "    .dataframe tbody tr th {\n",
       "        vertical-align: top;\n",
       "    }\n",
       "\n",
       "    .dataframe thead th {\n",
       "        text-align: right;\n",
       "    }\n",
       "</style>\n",
       "<table border=\"1\" class=\"dataframe\">\n",
       "  <thead>\n",
       "    <tr style=\"text-align: right;\">\n",
       "      <th></th>\n",
       "      <th>key_ID</th>\n",
       "      <th>village</th>\n",
       "      <th>interview_date</th>\n",
       "      <th>no_membrs</th>\n",
       "      <th>years_liv</th>\n",
       "      <th>respondent_wall_type</th>\n",
       "      <th>rooms</th>\n",
       "      <th>memb_assoc</th>\n",
       "      <th>affect_conflicts</th>\n",
       "      <th>liv_count</th>\n",
       "      <th>items_owned</th>\n",
       "      <th>no_meals</th>\n",
       "      <th>months_lack_food</th>\n",
       "      <th>instanceID</th>\n",
       "    </tr>\n",
       "  </thead>\n",
       "  <tbody>\n",
       "    <tr>\n",
       "      <th>47</th>\n",
       "      <td>193</td>\n",
       "      <td>Ruaca</td>\n",
       "      <td>2017-06-04T00:00:00Z</td>\n",
       "      <td>7</td>\n",
       "      <td>10</td>\n",
       "      <td>cement</td>\n",
       "      <td>3</td>\n",
       "      <td>no</td>\n",
       "      <td>more_once</td>\n",
       "      <td>3</td>\n",
       "      <td>car;lorry;television;radio;sterio;cow_plough;s...</td>\n",
       "      <td>3</td>\n",
       "      <td>none</td>\n",
       "      <td>uuid:5ccc2e5a-ea90-48b5-8542-69400d5334df</td>\n",
       "    </tr>\n",
       "    <tr>\n",
       "      <th>48</th>\n",
       "      <td>194</td>\n",
       "      <td>Ruaca</td>\n",
       "      <td>2017-06-04T00:00:00Z</td>\n",
       "      <td>4</td>\n",
       "      <td>5</td>\n",
       "      <td>muddaub</td>\n",
       "      <td>1</td>\n",
       "      <td>no</td>\n",
       "      <td>more_once</td>\n",
       "      <td>1</td>\n",
       "      <td>radio;solar_panel;solar_torch;mobile_phone</td>\n",
       "      <td>3</td>\n",
       "      <td>Sept;Oct;Nov</td>\n",
       "      <td>uuid:95c11a30-d44f-40c4-8ea8-ec34fca6bbbf</td>\n",
       "    </tr>\n",
       "  </tbody>\n",
       "</table>\n",
       "</div>"
      ],
      "text/plain": [
       "    key_ID village        interview_date  no_membrs  years_liv  \\\n",
       "47     193   Ruaca  2017-06-04T00:00:00Z          7         10   \n",
       "48     194   Ruaca  2017-06-04T00:00:00Z          4          5   \n",
       "\n",
       "   respondent_wall_type  rooms memb_assoc affect_conflicts  liv_count  \\\n",
       "47               cement      3         no        more_once          3   \n",
       "48              muddaub      1         no        more_once          1   \n",
       "\n",
       "                                          items_owned  no_meals  \\\n",
       "47  car;lorry;television;radio;sterio;cow_plough;s...         3   \n",
       "48         radio;solar_panel;solar_torch;mobile_phone         3   \n",
       "\n",
       "   months_lack_food                                 instanceID  \n",
       "47             none  uuid:5ccc2e5a-ea90-48b5-8542-69400d5334df  \n",
       "48     Sept;Oct;Nov  uuid:95c11a30-d44f-40c4-8ea8-ec34fca6bbbf  "
      ]
     },
     "execution_count": 4,
     "metadata": {},
     "output_type": "execute_result"
    }
   ],
   "source": [
    "safi_Ruaca.tail(2)"
   ]
  },
  {
   "cell_type": "code",
   "execution_count": 5,
   "metadata": {},
   "outputs": [
    {
     "data": {
      "text/plain": [
       "Index(['key_ID', 'village', 'interview_date', 'no_membrs', 'years_liv',\n",
       "       'respondent_wall_type', 'rooms', 'memb_assoc', 'affect_conflicts',\n",
       "       'liv_count', 'items_owned', 'no_meals', 'months_lack_food',\n",
       "       'instanceID'],\n",
       "      dtype='object')"
      ]
     },
     "execution_count": 5,
     "metadata": {},
     "output_type": "execute_result"
    }
   ],
   "source": [
    "safi_Ruaca.columns"
   ]
  },
  {
   "cell_type": "code",
   "execution_count": 6,
   "metadata": {},
   "outputs": [
    {
     "data": {
      "text/plain": [
       "Index(['key_ID', 'village', 'interview_date', 'no_membrs', 'years_liv',\n",
       "       'respondent_wall_type', 'rooms', 'memb_assoc', 'affect_conflicts',\n",
       "       'liv_count', 'items_owned', 'no_meals', 'months_lack_food',\n",
       "       'instanceID'],\n",
       "      dtype='object')"
      ]
     },
     "execution_count": 6,
     "metadata": {},
     "output_type": "execute_result"
    }
   ],
   "source": [
    "safi_god.columns"
   ]
  },
  {
   "cell_type": "code",
   "execution_count": 7,
   "metadata": {},
   "outputs": [
    {
     "data": {
      "text/plain": [
       "(92, 14)"
      ]
     },
     "execution_count": 7,
     "metadata": {},
     "output_type": "execute_result"
    }
   ],
   "source": [
    "safi_all = pd.concat([safi_god,safi_Ruaca])\n",
    "safi_all.shape"
   ]
  },
  {
   "cell_type": "code",
   "execution_count": 8,
   "metadata": {},
   "outputs": [
    {
     "data": {
      "text/plain": [
       "(43, 14)"
      ]
     },
     "execution_count": 8,
     "metadata": {},
     "output_type": "execute_result"
    }
   ],
   "source": [
    "safi_god.shape"
   ]
  },
  {
   "cell_type": "code",
   "execution_count": 9,
   "metadata": {},
   "outputs": [],
   "source": [
    "safi_nums = pd.read_csv('data/SAFI_numCols.csv')\n",
    "safi_char = pd.read_csv('data/SAFI_charCols.csv')"
   ]
  },
  {
   "cell_type": "code",
   "execution_count": 10,
   "metadata": {},
   "outputs": [
    {
     "name": "stdout",
     "output_type": "stream",
     "text": [
      "Index(['instanceID', 'no_membrs', 'years_liv', 'rooms'], dtype='object')\n",
      "Index(['instanceID', 'village', 'respondent_wall_type', 'items_owned'], dtype='object')\n"
     ]
    }
   ],
   "source": [
    "print(safi_nums.columns)\n",
    "print(safi_char.columns)"
   ]
  },
  {
   "cell_type": "code",
   "execution_count": 11,
   "metadata": {},
   "outputs": [
    {
     "data": {
      "text/plain": [
       "Index(['instanceID', 'no_membrs', 'years_liv', 'rooms', 'instanceID',\n",
       "       'village', 'respondent_wall_type', 'items_owned'],\n",
       "      dtype='object')"
      ]
     },
     "execution_count": 11,
     "metadata": {},
     "output_type": "execute_result"
    }
   ],
   "source": [
    "safi_allcols = pd.concat([safi_nums,safi_char],axis=1)\n",
    "safi_allcols.columns"
   ]
  },
  {
   "cell_type": "code",
   "execution_count": 13,
   "metadata": {},
   "outputs": [],
   "source": [
    "safi_allbymerge = pd.merge(safi_nums, safi_char, \n",
    "                           how='inner',on= 'instanceID')"
   ]
  },
  {
   "cell_type": "code",
   "execution_count": null,
   "metadata": {},
   "outputs": [],
   "source": []
  }
 ],
 "metadata": {
  "kernelspec": {
   "display_name": "Python 3",
   "language": "python",
   "name": "python3"
  },
  "language_info": {
   "codemirror_mode": {
    "name": "ipython",
    "version": 3
   },
   "file_extension": ".py",
   "mimetype": "text/x-python",
   "name": "python",
   "nbconvert_exporter": "python",
   "pygments_lexer": "ipython3",
   "version": "3.6.4"
  }
 },
 "nbformat": 4,
 "nbformat_minor": 2
}
