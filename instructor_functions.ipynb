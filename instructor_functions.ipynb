{
 "cells": [
  {
   "cell_type": "markdown",
   "metadata": {},
   "source": [
    "# Writing Functions\n",
    "\n",
    "Functions are a very powerful aspect of programming, they allow us to group a series of actions into one line."
   ]
  },
  {
   "cell_type": "code",
   "execution_count": 1,
   "metadata": {},
   "outputs": [],
   "source": [
    "# python functions start with the def keyword to tel python \"i'm going to define a function for you\"\n",
    "# the the name of the function\n",
    "# in parenthesis, the parameters it should take in\n",
    "# the a colon that tels python \"here's what to do\"\n",
    "def power(num, raisedto):\n",
    "    \"\"\"\n",
    "    this function raises num to the power of rasied to.\n",
    "    \n",
    "    Parameters\n",
    "    -----------\n",
    "    num : scalar\n",
    "        base of exponentiation\n",
    "    raisedto : scalar\n",
    "        exponent\n",
    "        \n",
    "    Returns\n",
    "    --------\n",
    "    num_to_raisedto : sclaar\n",
    "        the result o the calculations\n",
    "    \n",
    "    \n",
    "    \"\"\" # writing the docstring allows help to work for your function\n",
    "    # the body of the function is tabbed over\n",
    "    num_to_raisedto = num** raisedto\n",
    "    # mostly we end functions with a return statement\n",
    "    return num_to_raisedto"
   ]
  },
  {
   "cell_type": "markdown",
   "metadata": {},
   "source": [
    "Because we return a value, in the notebook, we can print out the result by leaving it alone"
   ]
  },
  {
   "cell_type": "code",
   "execution_count": 3,
   "metadata": {},
   "outputs": [
    {
     "data": {
      "text/plain": [
       "32"
      ]
     },
     "execution_count": 3,
     "metadata": {},
     "output_type": "execute_result"
    }
   ],
   "source": [
    "power(2,5)"
   ]
  },
  {
   "cell_type": "markdown",
   "metadata": {},
   "source": [
    "We can also assign the value of our function to a variable"
   ]
  },
  {
   "cell_type": "code",
   "execution_count": 5,
   "metadata": {},
   "outputs": [
    {
     "name": "stdout",
     "output_type": "stream",
     "text": [
      "4  to the power of  5  is  1024\n"
     ]
    }
   ],
   "source": [
    "a = 4\n",
    "b = 5\n",
    "a_b = power(a,b)\n",
    "print(a,' to the power of ',b,' is ',a_b)"
   ]
  },
  {
   "cell_type": "markdown",
   "metadata": {},
   "source": [
    "because we wrote a docstring, we can use help"
   ]
  },
  {
   "cell_type": "code",
   "execution_count": 6,
   "metadata": {},
   "outputs": [
    {
     "name": "stdout",
     "output_type": "stream",
     "text": [
      "Help on function power in module __main__:\n",
      "\n",
      "power(num, raisedto)\n",
      "    this function raises num to the power of rasied to.\n",
      "    \n",
      "    Parameters\n",
      "    -----------\n",
      "    num : scalar\n",
      "        base of exponentiation\n",
      "    raisedto : scalar\n",
      "        exponent\n",
      "        \n",
      "    Returns\n",
      "    --------\n",
      "    num_to_raisedto : sclaar\n",
      "        the result o the calculations\n",
      "\n"
     ]
    }
   ],
   "source": [
    "help(power)"
   ]
  },
  {
   "cell_type": "markdown",
   "metadata": {},
   "source": [
    "A return statement is not required, we can add a print diretly to the statement"
   ]
  },
  {
   "cell_type": "code",
   "execution_count": 7,
   "metadata": {},
   "outputs": [],
   "source": [
    "\n",
    "def power_no_return(num, raisedto):\n",
    "    \"\"\"\n",
    "    this function raises num to the power of rasied to.\n",
    "    \n",
    "    \n",
    "    \"\"\" \n",
    "    num_to_raisedto = num** raisedto\n",
    "    print(num_to_raisedto)"
   ]
  },
  {
   "cell_type": "code",
   "execution_count": 8,
   "metadata": {},
   "outputs": [
    {
     "name": "stdout",
     "output_type": "stream",
     "text": [
      "1024\n"
     ]
    }
   ],
   "source": [
    "power_no_return(4,5)"
   ]
  },
  {
   "cell_type": "code",
   "execution_count": 9,
   "metadata": {},
   "outputs": [
    {
     "data": {
      "text/plain": [
       "int"
      ]
     },
     "execution_count": 9,
     "metadata": {},
     "output_type": "execute_result"
    }
   ],
   "source": [
    "type(power(4,5))"
   ]
  },
  {
   "cell_type": "code",
   "execution_count": 10,
   "metadata": {},
   "outputs": [
    {
     "name": "stdout",
     "output_type": "stream",
     "text": [
      "1024\n"
     ]
    },
    {
     "data": {
      "text/plain": [
       "NoneType"
      ]
     },
     "execution_count": 10,
     "metadata": {},
     "output_type": "execute_result"
    }
   ],
   "source": [
    "type(power_no_return(4,5))"
   ]
  },
  {
   "cell_type": "markdown",
   "metadata": {},
   "source": [
    "We can see that the function still run with no return, but the return type is `NoneType` instead of int. "
   ]
  },
  {
   "cell_type": "markdown",
   "metadata": {},
   "source": [
    "# Exercise"
   ]
  },
  {
   "cell_type": "code",
   "execution_count": null,
   "metadata": {},
   "outputs": [],
   "source": [
    "# %load code/cuboid"
   ]
  },
  {
   "cell_type": "markdown",
   "metadata": {},
   "source": [
    "## For math lovers\n",
    "1. Write a function definition to calculate the volume of a cuboid. The function will use three parameters 'H', 'W' and 'L' and return the volume.\n",
    "\n",
    "2. Supposing that in addition to the volume I also wanted to calculate the surface area and the sum of all of the edges. Would I (or should I) have three separate functions or could I write a single function to provide all three values together?"
   ]
  },
  {
   "cell_type": "code",
   "execution_count": 11,
   "metadata": {},
   "outputs": [],
   "source": [
    "def volume(l,h,w):\n",
    "    \"\"\"compute cuboid volume\"\"\"\n",
    "    return l*w*h\n",
    "\n",
    "def cubiod_stats(l,h,w):\n",
    "    \"\"\"compute cuboid volume, surface area and sum of edges\"\"\"\n",
    "    vol = l*w*h\n",
    "    surface_area = 2*l*w + 2*l*h +2*w*h\n",
    "    edge_len = 4*(l+h+w)\n",
    "    return vol, surface_area, edge_len"
   ]
  },
  {
   "cell_type": "markdown",
   "metadata": {},
   "source": [
    "it's better in general to split them, though we can write it all in one function"
   ]
  },
  {
   "cell_type": "markdown",
   "metadata": {},
   "source": [
    "# if you forget geometry\n",
    "### or are tired \n",
    "1. Write a function that takes in a first name and surname and returns the user name of the person that is the first letter of the first name and the whole surname\n",
    "\n",
    "2. Suppose you also want the user's display name, their full name as onestring, write this function as well. Would I (or should I) have two separate functions or could I write a single function to provide both values together?"
   ]
  },
  {
   "cell_type": "code",
   "execution_count": 12,
   "metadata": {},
   "outputs": [],
   "source": [
    "def get_username (first, last):\n",
    "    \"\"\"i shoudl write this later\"\"\"\n",
    "    username = first[0] +'.'+ last\n",
    "    return username"
   ]
  },
  {
   "cell_type": "code",
   "execution_count": 14,
   "metadata": {},
   "outputs": [],
   "source": [
    "def get_username_display (first, last):\n",
    "    \"\"\"i shoudl write this later\"\"\"\n",
    "    username = first[0] +'.'+ last\n",
    "    displayname= first + ' ' + last\n",
    "    return username,displayname\n"
   ]
  },
  {
   "cell_type": "markdown",
   "metadata": {},
   "source": [
    "# Loops\n",
    "\n",
    "if we want to run that function we wrote over a list of values and repeat, we can use a loop.  First we define the names"
   ]
  },
  {
   "cell_type": "code",
   "execution_count": 15,
   "metadata": {},
   "outputs": [],
   "source": [
    "first_name_list = ['Sarah', 'Katrin', 'Nikki']\n",
    "last_name_list  = ['Brown','Tirok','Gentle']\n",
    "\n"
   ]
  },
  {
   "cell_type": "markdown",
   "metadata": {},
   "source": [
    "we can use the builtin function `zip` to tie the two lists together. read more on it at the [documentation](https://docs.python.org/3.3/library/functions.html#zip) or by using help"
   ]
  },
  {
   "cell_type": "code",
   "execution_count": 16,
   "metadata": {},
   "outputs": [
    {
     "name": "stdout",
     "output_type": "stream",
     "text": [
      "S.Brown\n",
      "K.Tirok\n",
      "N.Gentle\n"
     ]
    }
   ],
   "source": [
    "for first, last in zip(first_name_list,last_name_list):\n",
    "    print(get_username(first,last))"
   ]
  },
  {
   "cell_type": "markdown",
   "metadata": {},
   "source": [
    "We can also make a single list with tuples of the parameters"
   ]
  },
  {
   "cell_type": "code",
   "execution_count": 17,
   "metadata": {},
   "outputs": [],
   "source": [
    "names =[('sarah','brown'),('Katrin','Tirok'),('Nikki','Gentle'),('Bianca','Peterson')]"
   ]
  },
  {
   "cell_type": "code",
   "execution_count": 19,
   "metadata": {},
   "outputs": [
    {
     "name": "stdout",
     "output_type": "stream",
     "text": [
      "s.brown\n",
      "K.Tirok\n",
      "N.Gentle\n",
      "B.Peterson\n"
     ]
    }
   ],
   "source": [
    "for name in names:\n",
    "    # the * breaks the tuple into two separate parameters\n",
    "    print(get_username(*name))"
   ]
  },
  {
   "cell_type": "code",
   "execution_count": null,
   "metadata": {},
   "outputs": [],
   "source": [
    "# %load code/for"
   ]
  },
  {
   "cell_type": "markdown",
   "metadata": {},
   "source": [
    "In example8 the split method is used to break the `longString` variable down into a list of individual words which are then iterated through.\n",
    "\n",
    "Suppose that we have a string containing a set of 4 different values separated by ','  like this:"
   ]
  },
  {
   "cell_type": "code",
   "execution_count": 43,
   "metadata": {},
   "outputs": [],
   "source": [
    "# code\n",
    "variablelist = \"01/01/2010,34.5,Yellow,True\"\n",
    "# break cell here"
   ]
  },
  {
   "cell_type": "markdown",
   "metadata": {},
   "source": [
    "Research the `split()` method and then rewrite example 8 so that it prints the 4 components of `variablelist`"
   ]
  },
  {
   "cell_type": "markdown",
   "metadata": {},
   "source": [
    "# Challenge\n",
    "\n",
    "Try combining loops, functions, and pandas"
   ]
  },
  {
   "cell_type": "code",
   "execution_count": null,
   "metadata": {},
   "outputs": [],
   "source": []
  }
 ],
 "metadata": {
  "kernelspec": {
   "display_name": "Python 3",
   "language": "python",
   "name": "python3"
  },
  "language_info": {
   "codemirror_mode": {
    "name": "ipython",
    "version": 3
   },
   "file_extension": ".py",
   "mimetype": "text/x-python",
   "name": "python",
   "nbconvert_exporter": "python",
   "pygments_lexer": "ipython3",
   "version": "3.6.4"
  }
 },
 "nbformat": 4,
 "nbformat_minor": 2
}
