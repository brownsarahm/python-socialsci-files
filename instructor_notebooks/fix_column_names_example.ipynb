{
 "cells": [
  {
   "cell_type": "code",
   "execution_count": 1,
   "metadata": {},
   "outputs": [],
   "source": [
    "import pandas as pd"
   ]
  },
  {
   "cell_type": "code",
   "execution_count": 4,
   "metadata": {},
   "outputs": [],
   "source": [
    "safi_full = pd.read_csv('../data/Moz_SAFI_Survey_Final_results.csv',index_col='key_id')"
   ]
  },
  {
   "cell_type": "code",
   "execution_count": 5,
   "metadata": {},
   "outputs": [
    {
     "data": {
      "text/plain": [
       "Index(['A01_interview_date', 'A03_quest_no', 'A04_start', 'A05_end',\n",
       "       'A06_province', 'A07_district', 'A08_ward', 'A09_village',\n",
       "       'A11_years_farm', 'A12_agr_assoc', '_note2', 'B_no_membrs',\n",
       "       '_members_count', 'B11_remittance_money', 'B16_years_liv',\n",
       "       'B17_parents_liv', 'B18_sp_parents_liv', 'B19_grand_liv',\n",
       "       'B20_sp_grand_liv', 'C01_respondent_roof_type',\n",
       "       'C02_respondent_wall_type', 'C02_respondent_wall_type_other',\n",
       "       'C03_respondent_floor_type', 'C04_window_type',\n",
       "       'C05_buildings_in_compound', 'C06_rooms', 'C07_other_buildings',\n",
       "       'D_no_plots', 'D_plots_count', 'E01_water_use', 'E_no_group_count',\n",
       "       'E_yes_group_count', 'E17_no_enough_water', 'E18_months_no_water',\n",
       "       'E19_period_use', 'E20_exper_other', 'E21_other_meth', 'E22_res_change',\n",
       "       'E23_memb_assoc', 'E24_resp_assoc', 'E25_fees_water',\n",
       "       'E26_affect_conflicts', '_note', 'F04_need_money', 'F05_money_source',\n",
       "       'F05_money_source_other', 'F06_crops_contr', 'F08_emply_lab',\n",
       "       'F09_du_labour', 'F10_liv_owned', 'F10_liv_owned_other', 'F_liv_count',\n",
       "       'F12_poultry', 'F13_du_look_aftr_cows', 'F14_items_owned',\n",
       "       'F14_items_owned_other', 'G01_no_meals', 'G02_months_lack_food',\n",
       "       'G03_no_food_mitigation', 'gps:Latitude', 'gps:Longitude',\n",
       "       'gps:Altitude', 'gps:Accuracy', 'instanceID'],\n",
       "      dtype='object')"
      ]
     },
     "execution_count": 5,
     "metadata": {},
     "output_type": "execute_result"
    }
   ],
   "source": [
    "safi_full.columns"
   ]
  },
  {
   "cell_type": "code",
   "execution_count": 8,
   "metadata": {},
   "outputs": [],
   "source": [
    "def fixes(col_name):\n",
    "    if col_name[3] =='_' :\n",
    "        clean_name = col_name[4:]\n",
    "    elif col_name[0] in 'ABCDEFG':\n",
    "        clean_name = col_name[2:]\n",
    "    elif col_name[0] == '_':\n",
    "        clean_name = col_name[1:]\n",
    "    else:\n",
    "        clean_name = col_name.replace(':','_')\n",
    "        \n",
    "    return clean_name"
   ]
  },
  {
   "cell_type": "code",
   "execution_count": 9,
   "metadata": {},
   "outputs": [
    {
     "data": {
      "text/plain": [
       "{'A01_interview_date': 'interview_date',\n",
       " 'A03_quest_no': 'quest_no',\n",
       " 'A04_start': 'start',\n",
       " 'A05_end': 'end',\n",
       " 'A06_province': 'province',\n",
       " 'A07_district': 'district',\n",
       " 'A08_ward': 'ward',\n",
       " 'A09_village': 'village',\n",
       " 'A11_years_farm': 'years_farm',\n",
       " 'A12_agr_assoc': 'agr_assoc',\n",
       " 'B11_remittance_money': 'remittance_money',\n",
       " 'B16_years_liv': 'years_liv',\n",
       " 'B17_parents_liv': 'parents_liv',\n",
       " 'B18_sp_parents_liv': 'sp_parents_liv',\n",
       " 'B19_grand_liv': 'grand_liv',\n",
       " 'B20_sp_grand_liv': 'sp_grand_liv',\n",
       " 'B_no_membrs': 'no_membrs',\n",
       " 'C01_respondent_roof_type': 'respondent_roof_type',\n",
       " 'C02_respondent_wall_type': 'respondent_wall_type',\n",
       " 'C02_respondent_wall_type_other': 'respondent_wall_type_other',\n",
       " 'C03_respondent_floor_type': 'respondent_floor_type',\n",
       " 'C04_window_type': 'window_type',\n",
       " 'C05_buildings_in_compound': 'buildings_in_compound',\n",
       " 'C06_rooms': 'rooms',\n",
       " 'C07_other_buildings': 'other_buildings',\n",
       " 'D_no_plots': 'no_plots',\n",
       " 'D_plots_count': 'plots_count',\n",
       " 'E01_water_use': 'water_use',\n",
       " 'E17_no_enough_water': 'no_enough_water',\n",
       " 'E18_months_no_water': 'months_no_water',\n",
       " 'E19_period_use': 'period_use',\n",
       " 'E20_exper_other': 'exper_other',\n",
       " 'E21_other_meth': 'other_meth',\n",
       " 'E22_res_change': 'res_change',\n",
       " 'E23_memb_assoc': 'memb_assoc',\n",
       " 'E24_resp_assoc': 'resp_assoc',\n",
       " 'E25_fees_water': 'fees_water',\n",
       " 'E26_affect_conflicts': 'affect_conflicts',\n",
       " 'E_no_group_count': 'no_group_count',\n",
       " 'E_yes_group_count': 'yes_group_count',\n",
       " 'F04_need_money': 'need_money',\n",
       " 'F05_money_source': 'money_source',\n",
       " 'F05_money_source_other': 'money_source_other',\n",
       " 'F06_crops_contr': 'crops_contr',\n",
       " 'F08_emply_lab': 'emply_lab',\n",
       " 'F09_du_labour': 'du_labour',\n",
       " 'F10_liv_owned': 'liv_owned',\n",
       " 'F10_liv_owned_other': 'liv_owned_other',\n",
       " 'F12_poultry': 'poultry',\n",
       " 'F13_du_look_aftr_cows': 'du_look_aftr_cows',\n",
       " 'F14_items_owned': 'items_owned',\n",
       " 'F14_items_owned_other': 'items_owned_other',\n",
       " 'F_liv_count': 'liv_count',\n",
       " 'G01_no_meals': 'no_meals',\n",
       " 'G02_months_lack_food': 'months_lack_food',\n",
       " 'G03_no_food_mitigation': 'no_food_mitigation',\n",
       " '_members_count': 'members_count',\n",
       " '_note': 'note',\n",
       " '_note2': 'note2',\n",
       " 'gps:Accuracy': 'gps_Accuracy',\n",
       " 'gps:Altitude': 'gps_Altitude',\n",
       " 'gps:Latitude': 'gps_Latitude',\n",
       " 'gps:Longitude': 'gps_Longitude',\n",
       " 'instanceID': 'instanceID'}"
      ]
     },
     "execution_count": 9,
     "metadata": {},
     "output_type": "execute_result"
    }
   ],
   "source": [
    "new_colnames = {col:fixes(col) for col in safi_full.columns}\n",
    "new_colnames"
   ]
  },
  {
   "cell_type": "code",
   "execution_count": 10,
   "metadata": {},
   "outputs": [],
   "source": [
    "safi_full = safi_full.rename(columns=new_colnames)"
   ]
  },
  {
   "cell_type": "code",
   "execution_count": 11,
   "metadata": {},
   "outputs": [],
   "source": [
    "safi_full['village'] = safi_full['village'].replace({'Ruaca - Nhamuenda':'Ruaca','Ruaca-Nhamuenda':'Ruaca','49':'Chirodzo'})"
   ]
  },
  {
   "cell_type": "code",
   "execution_count": 13,
   "metadata": {},
   "outputs": [],
   "source": [
    "safi_full.to_csv('../data/SAFI_full_shortname.csv')"
   ]
  },
  {
   "cell_type": "code",
   "execution_count": null,
   "metadata": {},
   "outputs": [],
   "source": []
  },
  {
   "cell_type": "code",
   "execution_count": null,
   "metadata": {},
   "outputs": [],
   "source": []
  }
 ],
 "metadata": {
  "kernelspec": {
   "display_name": "Python 3",
   "language": "python",
   "name": "python3"
  },
  "language_info": {
   "codemirror_mode": {
    "name": "ipython",
    "version": 3
   },
   "file_extension": ".py",
   "mimetype": "text/x-python",
   "name": "python",
   "nbconvert_exporter": "python",
   "pygments_lexer": "ipython3",
   "version": "3.6.4"
  }
 },
 "nbformat": 4,
 "nbformat_minor": 2
}
