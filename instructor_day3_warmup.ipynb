{
 "cells": [
  {
   "cell_type": "markdown",
   "metadata": {},
   "source": [
    "# Day 3 warmpup Solutions"
   ]
  },
  {
   "cell_type": "markdown",
   "metadata": {},
   "source": [
    "The first exercise is to subset the `SAFI_clean` data set to keep only every fourth value"
   ]
  },
  {
   "cell_type": "code",
   "execution_count": 1,
   "metadata": {},
   "outputs": [],
   "source": [
    "# %load warmup/day3_1\n",
    "# Day 3 warmup, part 1\n",
    "\n",
    "#  import the pandas library\n",
    "import pandas as pd\n",
    "\n",
    "# load the SAFI_clean data set\n",
    "data_folder = 'data'\n",
    "clean_file = 'SAFI_clean.csv'\n",
    "# remember from day 1, how we can combine strings\n",
    "safi = pd.read_csv(data_folder + '/' + clean_file)"
   ]
  },
  {
   "cell_type": "code",
   "execution_count": 2,
   "metadata": {},
   "outputs": [
    {
     "data": {
      "text/html": [
       "<div>\n",
       "<style scoped>\n",
       "    .dataframe tbody tr th:only-of-type {\n",
       "        vertical-align: middle;\n",
       "    }\n",
       "\n",
       "    .dataframe tbody tr th {\n",
       "        vertical-align: top;\n",
       "    }\n",
       "\n",
       "    .dataframe thead th {\n",
       "        text-align: right;\n",
       "    }\n",
       "</style>\n",
       "<table border=\"1\" class=\"dataframe\">\n",
       "  <thead>\n",
       "    <tr style=\"text-align: right;\">\n",
       "      <th></th>\n",
       "      <th>key_ID</th>\n",
       "      <th>village</th>\n",
       "      <th>interview_date</th>\n",
       "      <th>no_membrs</th>\n",
       "      <th>years_liv</th>\n",
       "      <th>respondent_wall_type</th>\n",
       "      <th>rooms</th>\n",
       "      <th>memb_assoc</th>\n",
       "      <th>affect_conflicts</th>\n",
       "      <th>liv_count</th>\n",
       "      <th>items_owned</th>\n",
       "      <th>no_meals</th>\n",
       "      <th>months_lack_food</th>\n",
       "      <th>instanceID</th>\n",
       "    </tr>\n",
       "  </thead>\n",
       "  <tbody>\n",
       "    <tr>\n",
       "      <th>0</th>\n",
       "      <td>1</td>\n",
       "      <td>God</td>\n",
       "      <td>2016-11-17T00:00:00Z</td>\n",
       "      <td>3</td>\n",
       "      <td>4</td>\n",
       "      <td>muddaub</td>\n",
       "      <td>1</td>\n",
       "      <td>NaN</td>\n",
       "      <td>NaN</td>\n",
       "      <td>1</td>\n",
       "      <td>bicycle;television;solar_panel;table</td>\n",
       "      <td>2</td>\n",
       "      <td>Jan</td>\n",
       "      <td>uuid:ec241f2c-0609-46ed-b5e8-fe575f6cefef</td>\n",
       "    </tr>\n",
       "    <tr>\n",
       "      <th>1</th>\n",
       "      <td>1</td>\n",
       "      <td>God</td>\n",
       "      <td>2016-11-17T00:00:00Z</td>\n",
       "      <td>7</td>\n",
       "      <td>9</td>\n",
       "      <td>muddaub</td>\n",
       "      <td>1</td>\n",
       "      <td>yes</td>\n",
       "      <td>once</td>\n",
       "      <td>3</td>\n",
       "      <td>cow_cart;bicycle;radio;cow_plough;solar_panel;...</td>\n",
       "      <td>2</td>\n",
       "      <td>Jan;Sept;Oct;Nov;Dec</td>\n",
       "      <td>uuid:099de9c9-3e5e-427b-8452-26250e840d6e</td>\n",
       "    </tr>\n",
       "    <tr>\n",
       "      <th>2</th>\n",
       "      <td>3</td>\n",
       "      <td>God</td>\n",
       "      <td>2016-11-17T00:00:00Z</td>\n",
       "      <td>10</td>\n",
       "      <td>15</td>\n",
       "      <td>burntbricks</td>\n",
       "      <td>1</td>\n",
       "      <td>NaN</td>\n",
       "      <td>NaN</td>\n",
       "      <td>1</td>\n",
       "      <td>solar_torch</td>\n",
       "      <td>2</td>\n",
       "      <td>Jan;Feb;Mar;Oct;Nov;Dec</td>\n",
       "      <td>uuid:193d7daf-9582-409b-bf09-027dd36f9007</td>\n",
       "    </tr>\n",
       "    <tr>\n",
       "      <th>3</th>\n",
       "      <td>4</td>\n",
       "      <td>God</td>\n",
       "      <td>2016-11-17T00:00:00Z</td>\n",
       "      <td>7</td>\n",
       "      <td>6</td>\n",
       "      <td>burntbricks</td>\n",
       "      <td>1</td>\n",
       "      <td>NaN</td>\n",
       "      <td>NaN</td>\n",
       "      <td>2</td>\n",
       "      <td>bicycle;radio;cow_plough;solar_panel;mobile_phone</td>\n",
       "      <td>2</td>\n",
       "      <td>Sept;Oct;Nov;Dec</td>\n",
       "      <td>uuid:148d1105-778a-4755-aa71-281eadd4a973</td>\n",
       "    </tr>\n",
       "    <tr>\n",
       "      <th>4</th>\n",
       "      <td>5</td>\n",
       "      <td>God</td>\n",
       "      <td>2016-11-17T00:00:00Z</td>\n",
       "      <td>7</td>\n",
       "      <td>40</td>\n",
       "      <td>burntbricks</td>\n",
       "      <td>1</td>\n",
       "      <td>NaN</td>\n",
       "      <td>NaN</td>\n",
       "      <td>4</td>\n",
       "      <td>motorcyle;radio;cow_plough;mobile_phone</td>\n",
       "      <td>2</td>\n",
       "      <td>Aug;Sept;Oct;Nov</td>\n",
       "      <td>uuid:2c867811-9696-4966-9866-f35c3e97d02d</td>\n",
       "    </tr>\n",
       "  </tbody>\n",
       "</table>\n",
       "</div>"
      ],
      "text/plain": [
       "   key_ID village        interview_date  no_membrs  years_liv  \\\n",
       "0       1     God  2016-11-17T00:00:00Z          3          4   \n",
       "1       1     God  2016-11-17T00:00:00Z          7          9   \n",
       "2       3     God  2016-11-17T00:00:00Z         10         15   \n",
       "3       4     God  2016-11-17T00:00:00Z          7          6   \n",
       "4       5     God  2016-11-17T00:00:00Z          7         40   \n",
       "\n",
       "  respondent_wall_type  rooms memb_assoc affect_conflicts  liv_count  \\\n",
       "0              muddaub      1        NaN              NaN          1   \n",
       "1              muddaub      1        yes             once          3   \n",
       "2          burntbricks      1        NaN              NaN          1   \n",
       "3          burntbricks      1        NaN              NaN          2   \n",
       "4          burntbricks      1        NaN              NaN          4   \n",
       "\n",
       "                                         items_owned  no_meals  \\\n",
       "0               bicycle;television;solar_panel;table         2   \n",
       "1  cow_cart;bicycle;radio;cow_plough;solar_panel;...         2   \n",
       "2                                        solar_torch         2   \n",
       "3  bicycle;radio;cow_plough;solar_panel;mobile_phone         2   \n",
       "4            motorcyle;radio;cow_plough;mobile_phone         2   \n",
       "\n",
       "          months_lack_food                                 instanceID  \n",
       "0                      Jan  uuid:ec241f2c-0609-46ed-b5e8-fe575f6cefef  \n",
       "1     Jan;Sept;Oct;Nov;Dec  uuid:099de9c9-3e5e-427b-8452-26250e840d6e  \n",
       "2  Jan;Feb;Mar;Oct;Nov;Dec  uuid:193d7daf-9582-409b-bf09-027dd36f9007  \n",
       "3         Sept;Oct;Nov;Dec  uuid:148d1105-778a-4755-aa71-281eadd4a973  \n",
       "4         Aug;Sept;Oct;Nov  uuid:2c867811-9696-4966-9866-f35c3e97d02d  "
      ]
     },
     "execution_count": 2,
     "metadata": {},
     "output_type": "execute_result"
    }
   ],
   "source": [
    "safi.head()"
   ]
  },
  {
   "cell_type": "code",
   "execution_count": 3,
   "metadata": {},
   "outputs": [],
   "source": [
    "# get the length of the dataset\n",
    "num_safi_responses = len(safi)"
   ]
  },
  {
   "cell_type": "code",
   "execution_count": 4,
   "metadata": {},
   "outputs": [],
   "source": [
    "# create dataframe with every 4th response from the dataset\n",
    "# remember from day 1 how we made lists of numbers\n",
    "fourth_sample_list = list(range(0,num_safi_responses,4))"
   ]
  },
  {
   "cell_type": "code",
   "execution_count": 5,
   "metadata": {},
   "outputs": [],
   "source": [
    "# what function, and brackets and parameter?\n",
    "safi_subset = safi.iloc[fourth_sample_list]"
   ]
  },
  {
   "cell_type": "code",
   "execution_count": 6,
   "metadata": {},
   "outputs": [
    {
     "data": {
      "text/html": [
       "<div>\n",
       "<style scoped>\n",
       "    .dataframe tbody tr th:only-of-type {\n",
       "        vertical-align: middle;\n",
       "    }\n",
       "\n",
       "    .dataframe tbody tr th {\n",
       "        vertical-align: top;\n",
       "    }\n",
       "\n",
       "    .dataframe thead th {\n",
       "        text-align: right;\n",
       "    }\n",
       "</style>\n",
       "<table border=\"1\" class=\"dataframe\">\n",
       "  <thead>\n",
       "    <tr style=\"text-align: right;\">\n",
       "      <th></th>\n",
       "      <th>key_ID</th>\n",
       "      <th>village</th>\n",
       "      <th>interview_date</th>\n",
       "      <th>no_membrs</th>\n",
       "      <th>years_liv</th>\n",
       "      <th>respondent_wall_type</th>\n",
       "      <th>rooms</th>\n",
       "      <th>memb_assoc</th>\n",
       "      <th>affect_conflicts</th>\n",
       "      <th>liv_count</th>\n",
       "      <th>items_owned</th>\n",
       "      <th>no_meals</th>\n",
       "      <th>months_lack_food</th>\n",
       "      <th>instanceID</th>\n",
       "    </tr>\n",
       "  </thead>\n",
       "  <tbody>\n",
       "    <tr>\n",
       "      <th>0</th>\n",
       "      <td>1</td>\n",
       "      <td>God</td>\n",
       "      <td>2016-11-17T00:00:00Z</td>\n",
       "      <td>3</td>\n",
       "      <td>4</td>\n",
       "      <td>muddaub</td>\n",
       "      <td>1</td>\n",
       "      <td>NaN</td>\n",
       "      <td>NaN</td>\n",
       "      <td>1</td>\n",
       "      <td>bicycle;television;solar_panel;table</td>\n",
       "      <td>2</td>\n",
       "      <td>Jan</td>\n",
       "      <td>uuid:ec241f2c-0609-46ed-b5e8-fe575f6cefef</td>\n",
       "    </tr>\n",
       "    <tr>\n",
       "      <th>4</th>\n",
       "      <td>5</td>\n",
       "      <td>God</td>\n",
       "      <td>2016-11-17T00:00:00Z</td>\n",
       "      <td>7</td>\n",
       "      <td>40</td>\n",
       "      <td>burntbricks</td>\n",
       "      <td>1</td>\n",
       "      <td>NaN</td>\n",
       "      <td>NaN</td>\n",
       "      <td>4</td>\n",
       "      <td>motorcyle;radio;cow_plough;mobile_phone</td>\n",
       "      <td>2</td>\n",
       "      <td>Aug;Sept;Oct;Nov</td>\n",
       "      <td>uuid:2c867811-9696-4966-9866-f35c3e97d02d</td>\n",
       "    </tr>\n",
       "    <tr>\n",
       "      <th>8</th>\n",
       "      <td>9</td>\n",
       "      <td>Chirodzo</td>\n",
       "      <td>2016-11-16T00:00:00Z</td>\n",
       "      <td>8</td>\n",
       "      <td>6</td>\n",
       "      <td>burntbricks</td>\n",
       "      <td>1</td>\n",
       "      <td>no</td>\n",
       "      <td>never</td>\n",
       "      <td>3</td>\n",
       "      <td>television;solar_panel;solar_torch</td>\n",
       "      <td>3</td>\n",
       "      <td>Jan;Dec</td>\n",
       "      <td>uuid:846103d2-b1db-4055-b502-9cd510bb7b37</td>\n",
       "    </tr>\n",
       "    <tr>\n",
       "      <th>12</th>\n",
       "      <td>13</td>\n",
       "      <td>God</td>\n",
       "      <td>2016-11-21T00:00:00Z</td>\n",
       "      <td>6</td>\n",
       "      <td>8</td>\n",
       "      <td>burntbricks</td>\n",
       "      <td>1</td>\n",
       "      <td>no</td>\n",
       "      <td>never</td>\n",
       "      <td>3</td>\n",
       "      <td>bicycle;radio;cow_plough;mobile_phone</td>\n",
       "      <td>2</td>\n",
       "      <td>Sept;Oct;Nov</td>\n",
       "      <td>uuid:6c00c145-ee3b-409c-8c02-2c8d743b6918</td>\n",
       "    </tr>\n",
       "    <tr>\n",
       "      <th>16</th>\n",
       "      <td>17</td>\n",
       "      <td>God</td>\n",
       "      <td>2016-11-21T00:00:00Z</td>\n",
       "      <td>8</td>\n",
       "      <td>20</td>\n",
       "      <td>sunbricks</td>\n",
       "      <td>1</td>\n",
       "      <td>NaN</td>\n",
       "      <td>NaN</td>\n",
       "      <td>1</td>\n",
       "      <td>mobile_phone</td>\n",
       "      <td>2</td>\n",
       "      <td>Nov;Dec</td>\n",
       "      <td>uuid:4707f3dc-df18-4348-9c2c-eec651e89b6b</td>\n",
       "    </tr>\n",
       "  </tbody>\n",
       "</table>\n",
       "</div>"
      ],
      "text/plain": [
       "    key_ID   village        interview_date  no_membrs  years_liv  \\\n",
       "0        1       God  2016-11-17T00:00:00Z          3          4   \n",
       "4        5       God  2016-11-17T00:00:00Z          7         40   \n",
       "8        9  Chirodzo  2016-11-16T00:00:00Z          8          6   \n",
       "12      13       God  2016-11-21T00:00:00Z          6          8   \n",
       "16      17       God  2016-11-21T00:00:00Z          8         20   \n",
       "\n",
       "   respondent_wall_type  rooms memb_assoc affect_conflicts  liv_count  \\\n",
       "0               muddaub      1        NaN              NaN          1   \n",
       "4           burntbricks      1        NaN              NaN          4   \n",
       "8           burntbricks      1         no            never          3   \n",
       "12          burntbricks      1         no            never          3   \n",
       "16            sunbricks      1        NaN              NaN          1   \n",
       "\n",
       "                                items_owned  no_meals  months_lack_food  \\\n",
       "0      bicycle;television;solar_panel;table         2               Jan   \n",
       "4   motorcyle;radio;cow_plough;mobile_phone         2  Aug;Sept;Oct;Nov   \n",
       "8        television;solar_panel;solar_torch         3           Jan;Dec   \n",
       "12    bicycle;radio;cow_plough;mobile_phone         2      Sept;Oct;Nov   \n",
       "16                             mobile_phone         2           Nov;Dec   \n",
       "\n",
       "                                   instanceID  \n",
       "0   uuid:ec241f2c-0609-46ed-b5e8-fe575f6cefef  \n",
       "4   uuid:2c867811-9696-4966-9866-f35c3e97d02d  \n",
       "8   uuid:846103d2-b1db-4055-b502-9cd510bb7b37  \n",
       "12  uuid:6c00c145-ee3b-409c-8c02-2c8d743b6918  \n",
       "16  uuid:4707f3dc-df18-4348-9c2c-eec651e89b6b  "
      ]
     },
     "execution_count": 6,
     "metadata": {},
     "output_type": "execute_result"
    }
   ],
   "source": [
    "safi_subset.head()"
   ]
  },
  {
   "cell_type": "markdown",
   "metadata": {},
   "source": [
    "# Warm up 2\n",
    "\n",
    "Next, examine the SAFI crops dataset to see how land compares by farmer and by crop"
   ]
  },
  {
   "cell_type": "code",
   "execution_count": 7,
   "metadata": {},
   "outputs": [
    {
     "data": {
      "text/html": [
       "<div>\n",
       "<style scoped>\n",
       "    .dataframe tbody tr th:only-of-type {\n",
       "        vertical-align: middle;\n",
       "    }\n",
       "\n",
       "    .dataframe tbody tr th {\n",
       "        vertical-align: top;\n",
       "    }\n",
       "\n",
       "    .dataframe thead th {\n",
       "        text-align: right;\n",
       "    }\n",
       "</style>\n",
       "<table border=\"1\" class=\"dataframe\">\n",
       "  <thead>\n",
       "    <tr style=\"text-align: right;\">\n",
       "      <th></th>\n",
       "      <th>Farm</th>\n",
       "      <th>plot_no</th>\n",
       "      <th>plot_area</th>\n",
       "      <th>crop_no</th>\n",
       "      <th>crop_name</th>\n",
       "    </tr>\n",
       "  </thead>\n",
       "  <tbody>\n",
       "    <tr>\n",
       "      <th>0</th>\n",
       "      <td>1</td>\n",
       "      <td>1</td>\n",
       "      <td>0.5</td>\n",
       "      <td>1</td>\n",
       "      <td>maize</td>\n",
       "    </tr>\n",
       "    <tr>\n",
       "      <th>1</th>\n",
       "      <td>1</td>\n",
       "      <td>2</td>\n",
       "      <td>0.5</td>\n",
       "      <td>1</td>\n",
       "      <td>maize</td>\n",
       "    </tr>\n",
       "    <tr>\n",
       "      <th>2</th>\n",
       "      <td>1</td>\n",
       "      <td>1</td>\n",
       "      <td>1.0</td>\n",
       "      <td>1</td>\n",
       "      <td>maize</td>\n",
       "    </tr>\n",
       "    <tr>\n",
       "      <th>3</th>\n",
       "      <td>1</td>\n",
       "      <td>2</td>\n",
       "      <td>1.5</td>\n",
       "      <td>1</td>\n",
       "      <td>tomatoes</td>\n",
       "    </tr>\n",
       "    <tr>\n",
       "      <th>4</th>\n",
       "      <td>1</td>\n",
       "      <td>3</td>\n",
       "      <td>1.0</td>\n",
       "      <td>1</td>\n",
       "      <td>vegetable</td>\n",
       "    </tr>\n",
       "  </tbody>\n",
       "</table>\n",
       "</div>"
      ],
      "text/plain": [
       "   Farm  plot_no  plot_area  crop_no  crop_name\n",
       "0     1        1        0.5        1      maize\n",
       "1     1        2        0.5        1      maize\n",
       "2     1        1        1.0        1      maize\n",
       "3     1        2        1.5        1   tomatoes\n",
       "4     1        3        1.0        1  vegetable"
      ]
     },
     "execution_count": 7,
     "metadata": {},
     "output_type": "execute_result"
    }
   ],
   "source": [
    "# %load warmup/day3_2\n",
    "# load in the data file SAFI_crops\n",
    "SAFI_crops = pd.read_csv('data/SAFI_crops.csv')\n",
    "\n",
    "# look at the first few rows of  that data\n",
    "SAFI_crops.head()"
   ]
  },
  {
   "cell_type": "code",
   "execution_count": 8,
   "metadata": {},
   "outputs": [],
   "source": [
    "# filter the data to look at only the plots with maize\n",
    "\n",
    "maize_farms = SAFI_crops[SAFI_crops['crop_name'] =='maize']\n",
    "\n",
    "# save that to a separate.csv\n",
    "maize_farms.to_csv('data/maize_farms.csv')"
   ]
  },
  {
   "cell_type": "code",
   "execution_count": 9,
   "metadata": {},
   "outputs": [
    {
     "data": {
      "text/plain": [
       "Farm\n",
       "1    4.5\n",
       "3    1.0\n",
       "4    3.0\n",
       "5    2.0\n",
       "6    1.5\n",
       "Name: plot_area, dtype: float64"
      ]
     },
     "execution_count": 9,
     "metadata": {},
     "output_type": "execute_result"
    }
   ],
   "source": [
    "# sum to total area of crops per farm\n",
    "crops_per_farm = SAFI_crops.groupby('Farm')\n",
    "crops_per_farm['plot_area'].sum().head()"
   ]
  },
  {
   "cell_type": "code",
   "execution_count": 10,
   "metadata": {},
   "outputs": [
    {
     "data": {
      "text/plain": [
       "crop_name\n",
       "amendoim        2.0\n",
       "baby_corn      26.5\n",
       "bananas         6.0\n",
       "beans          64.0\n",
       "cabbage         9.7\n",
       "cucumber        3.5\n",
       "maize         538.0\n",
       "ngogwe          0.5\n",
       "onion          25.3\n",
       "other           9.8\n",
       "peanut         22.0\n",
       "pigeonpeas      1.0\n",
       "piri_piri      28.5\n",
       "potatoes        2.0\n",
       "sesame          2.0\n",
       "sorghum        64.0\n",
       "sunflower       0.5\n",
       "tomatoes      124.2\n",
       "vegetable      75.8\n",
       "Name: plot_area, dtype: float64"
      ]
     },
     "execution_count": 10,
     "metadata": {},
     "output_type": "execute_result"
    }
   ],
   "source": [
    "# sum the total area of land per crop, across all farmers\n",
    "land_per_crop = SAFI_crops.groupby('crop_name')\n",
    "land_per_crop['plot_area'].sum()"
   ]
  },
  {
   "cell_type": "markdown",
   "metadata": {},
   "source": [
    "# Bonus\n",
    "\n",
    "we can plot the stats we just produced"
   ]
  },
  {
   "cell_type": "code",
   "execution_count": 13,
   "metadata": {},
   "outputs": [],
   "source": [
    "%matplotlib inline"
   ]
  },
  {
   "cell_type": "code",
   "execution_count": 16,
   "metadata": {},
   "outputs": [
    {
     "data": {
      "image/png": "[encoded data removed]",
      "text/plain": [
       "<Figure size 432x288 with 1 Axes>"
      ]
     },
     "metadata": {},
     "output_type": "display_data"
    }
   ],
   "source": [
    "land_per_crop['plot_area'].sum().plot(kind='bar',title='Land use per crop');"
   ]
  },
  {
   "cell_type": "code",
   "execution_count": 22,
   "metadata": {},
   "outputs": [
    {
     "data": {
      "text/plain": [
       "<matplotlib.axes._subplots.AxesSubplot at 0x7fd3ce143ef0>"
      ]
     },
     "execution_count": 22,
     "metadata": {},
     "output_type": "execute_result"
    },
    {
     "data": {
      "image/png": "[encoded data removed]",
      "text/plain": [
       "<Figure size 1440x360 with 1 Axes>"
      ]
     },
     "metadata": {},
     "output_type": "display_data"
    }
   ],
   "source": [
    "crops_per_farm['plot_area'].sum().plot(kind='bar',title='Farm sizes',figsize =(20,5))"
   ]
  },
  {
   "cell_type": "markdown",
   "metadata": {},
   "source": [
    "The plot above is hard to read but making the width more than 20 makes it hard to see too, however, making it tall would work, the `barh` plot type allows that.  "
   ]
  },
  {
   "cell_type": "code",
   "execution_count": 26,
   "metadata": {},
   "outputs": [
    {
     "data": {
      "text/plain": [
       "<matplotlib.axes._subplots.AxesSubplot at 0x7fd3cd7a8f98>"
      ]
     },
     "execution_count": 26,
     "metadata": {},
     "output_type": "execute_result"
    },
    {
     "data": {
      "image/png": "[encoded data removed]",
      "text/plain": [
       "<Figure size 360x1800 with 1 Axes>"
      ]
     },
     "metadata": {},
     "output_type": "display_data"
    }
   ],
   "source": [
    "crops_per_farm['plot_area'].sum().plot(kind='barh',figsize=(5,25), title='Farms by total plot size')"
   ]
  },
  {
   "cell_type": "markdown",
   "metadata": {},
   "source": [
    "Pandas provides a `sort_values` function and we can plot the result after applying that as well"
   ]
  },
  {
   "cell_type": "code",
   "execution_count": 27,
   "metadata": {},
   "outputs": [
    {
     "data": {
      "text/plain": [
       "<matplotlib.axes._subplots.AxesSubplot at 0x7fd3cd505780>"
      ]
     },
     "execution_count": 27,
     "metadata": {},
     "output_type": "execute_result"
    },
    {
     "data": {
      "image/png": "[encoded data removed]",
      "text/plain": [
       "<Figure size 360x1800 with 1 Axes>"
      ]
     },
     "metadata": {},
     "output_type": "display_data"
    }
   ],
   "source": [
    "crops_per_farm['plot_area'].sum().sort_values().plot(kind='barh',figsize=(5,25), title='Farms by total plot size')"
   ]
  },
  {
   "cell_type": "code",
   "execution_count": null,
   "metadata": {},
   "outputs": [],
   "source": []
  }
 ],
 "metadata": {
  "kernelspec": {
   "display_name": "Python 3",
   "language": "python",
   "name": "python3"
  },
  "language_info": {
   "codemirror_mode": {
    "name": "ipython",
    "version": 3
   },
   "file_extension": ".py",
   "mimetype": "text/x-python",
   "name": "python",
   "nbconvert_exporter": "python",
   "pygments_lexer": "ipython3",
   "version": "3.6.4"
  }
 },
 "nbformat": 4,
 "nbformat_minor": 2
}
